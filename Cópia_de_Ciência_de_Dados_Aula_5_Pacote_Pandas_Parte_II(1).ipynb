{
  "nbformat": 4,
  "nbformat_minor": 0,
  "metadata": {
    "kernelspec": {
      "display_name": "Python 3",
      "language": "python",
      "name": "python3"
    },
    "language_info": {
      "codemirror_mode": {
        "name": "ipython",
        "version": 3
      },
      "file_extension": ".py",
      "mimetype": "text/x-python",
      "name": "python",
      "nbconvert_exporter": "python",
      "pygments_lexer": "ipython3",
      "version": "3.6.3"
    },
    "colab": {
      "provenance": [],
      "include_colab_link": true
    }
  },
  "cells": [
    {
      "cell_type": "markdown",
      "metadata": {
        "id": "view-in-github",
        "colab_type": "text"
      },
      "source": [
        "<a href=\"https://colab.research.google.com/github/HenriqueHideaki/100DaysOfAlgo/blob/master/C%C3%B3pia_de_Ci%C3%AAncia_de_Dados_Aula_5_Pacote_Pandas_Parte_II(1).ipynb\" target=\"_parent\"><img src=\"https://colab.research.google.com/assets/colab-badge.svg\" alt=\"Open In Colab\"/></a>"
      ]
    },
    {
      "cell_type": "markdown",
      "metadata": {
        "id": "FqUm-pJDQokB"
      },
      "source": [
        "# Disciplina: Ciência de Dados (DCA-0131)\n",
        "Prof. Luiz Affonso Guedes\n",
        "\n",
        "### Departamento de Engenharia de Computação e Automação - DCA\n",
        "\n",
        "UFRN - 2023\n",
        "\n",
        "*OBS: Favor fazer cópia do notebook antes de alterá-lo."
      ]
    },
    {
      "cell_type": "markdown",
      "metadata": {
        "id": "exNVjB13QokH"
      },
      "source": [
        "## Aula 5 - Pacote Pandas - Parte II\n",
        "- Revisão de uso de alugumas funcionalidades: importação de arquivo, gráficos.\n",
        "\n",
        "- Conceitos de tratamento avançado de dados: join, merge, groupby, concatenação.\n",
        "\n",
        "- Exemplo de aplicação."
      ]
    },
    {
      "cell_type": "code",
      "metadata": {
        "collapsed": true,
        "id": "MHSULtuhQokH"
      },
      "source": [
        "# Exemplo: Importanto Pandas\n",
        "\n",
        "from pandas import Series, DataFrame\n",
        "import pandas as pd\n",
        "\n",
        "import matplotlib.pyplot as plt   # importação do pacote matpotlib"
      ],
      "execution_count": null,
      "outputs": []
    },
    {
      "cell_type": "markdown",
      "metadata": {
        "id": "9tQkUfryQokI"
      },
      "source": [
        "### Exemplo de importação de arquivo csv de um site www"
      ]
    },
    {
      "cell_type": "markdown",
      "source": [],
      "metadata": {
        "id": "zOk9OoD5igHK"
      }
    },
    {
      "cell_type": "code",
      "metadata": {
        "id": "Iloh6-uFQokI"
      },
      "source": [
        "x1 = pd.read_csv(\"googleplaystore.csv\")"
      ],
      "execution_count": null,
      "outputs": []
    },
    {
      "cell_type": "code",
      "metadata": {
        "id": "ZZSPbUR3QokJ",
        "colab": {
          "base_uri": "https://localhost:8080/",
          "height": 1000
        },
        "outputId": "d331eb3c-3313-4fda-fbc4-c01c438b50a8"
      },
      "source": [
        "x1"
      ],
      "execution_count": null,
      "outputs": [
        {
          "output_type": "execute_result",
          "data": {
            "text/plain": [
              "                                                     App             Category  \\\n",
              "0         Photo Editor & Candy Camera & Grid & ScrapBook       ART_AND_DESIGN   \n",
              "1                                    Coloring book moana       ART_AND_DESIGN   \n",
              "2      U Launcher Lite – FREE Live Cool Themes, Hide ...       ART_AND_DESIGN   \n",
              "3                                  Sketch - Draw & Paint       ART_AND_DESIGN   \n",
              "4                  Pixel Draw - Number Art Coloring Book       ART_AND_DESIGN   \n",
              "...                                                  ...                  ...   \n",
              "10836                                   Sya9a Maroc - FR               FAMILY   \n",
              "10837                   Fr. Mike Schmitz Audio Teachings               FAMILY   \n",
              "10838                             Parkinson Exercices FR              MEDICAL   \n",
              "10839                      The SCP Foundation DB fr nn5n  BOOKS_AND_REFERENCE   \n",
              "10840      iHoroscope - 2018 Daily Horoscope & Astrology            LIFESTYLE   \n",
              "\n",
              "       Rating Reviews                Size     Installs  Type Price  \\\n",
              "0         4.1     159                 19M      10,000+  Free     0   \n",
              "1         3.9     967                 14M     500,000+  Free     0   \n",
              "2         4.7   87510                8.7M   5,000,000+  Free     0   \n",
              "3         4.5  215644                 25M  50,000,000+  Free     0   \n",
              "4         4.3     967                2.8M     100,000+  Free     0   \n",
              "...       ...     ...                 ...          ...   ...   ...   \n",
              "10836     4.5      38                 53M       5,000+  Free     0   \n",
              "10837     5.0       4                3.6M         100+  Free     0   \n",
              "10838     NaN       3                9.5M       1,000+  Free     0   \n",
              "10839     4.5     114  Varies with device       1,000+  Free     0   \n",
              "10840     4.5  398307                 19M  10,000,000+  Free     0   \n",
              "\n",
              "      Content Rating                     Genres      Last Updated  \\\n",
              "0           Everyone               Art & Design   January 7, 2018   \n",
              "1           Everyone  Art & Design;Pretend Play  January 15, 2018   \n",
              "2           Everyone               Art & Design    August 1, 2018   \n",
              "3               Teen               Art & Design      June 8, 2018   \n",
              "4           Everyone    Art & Design;Creativity     June 20, 2018   \n",
              "...              ...                        ...               ...   \n",
              "10836       Everyone                  Education     July 25, 2017   \n",
              "10837       Everyone                  Education      July 6, 2018   \n",
              "10838       Everyone                    Medical  January 20, 2017   \n",
              "10839     Mature 17+          Books & Reference  January 19, 2015   \n",
              "10840       Everyone                  Lifestyle     July 25, 2018   \n",
              "\n",
              "              Current Ver         Android Ver  \n",
              "0                   1.0.0        4.0.3 and up  \n",
              "1                   2.0.0        4.0.3 and up  \n",
              "2                   1.2.4        4.0.3 and up  \n",
              "3      Varies with device          4.2 and up  \n",
              "4                     1.1          4.4 and up  \n",
              "...                   ...                 ...  \n",
              "10836                1.48          4.1 and up  \n",
              "10837                 1.0          4.1 and up  \n",
              "10838                 1.0          2.2 and up  \n",
              "10839  Varies with device  Varies with device  \n",
              "10840  Varies with device  Varies with device  \n",
              "\n",
              "[10841 rows x 13 columns]"
            ],
            "text/html": [
              "\n",
              "  <div id=\"df-5caaaefc-dce1-4b50-aa38-34e38053a681\">\n",
              "    <div class=\"colab-df-container\">\n",
              "      <div>\n",
              "<style scoped>\n",
              "    .dataframe tbody tr th:only-of-type {\n",
              "        vertical-align: middle;\n",
              "    }\n",
              "\n",
              "    .dataframe tbody tr th {\n",
              "        vertical-align: top;\n",
              "    }\n",
              "\n",
              "    .dataframe thead th {\n",
              "        text-align: right;\n",
              "    }\n",
              "</style>\n",
              "<table border=\"1\" class=\"dataframe\">\n",
              "  <thead>\n",
              "    <tr style=\"text-align: right;\">\n",
              "      <th></th>\n",
              "      <th>App</th>\n",
              "      <th>Category</th>\n",
              "      <th>Rating</th>\n",
              "      <th>Reviews</th>\n",
              "      <th>Size</th>\n",
              "      <th>Installs</th>\n",
              "      <th>Type</th>\n",
              "      <th>Price</th>\n",
              "      <th>Content Rating</th>\n",
              "      <th>Genres</th>\n",
              "      <th>Last Updated</th>\n",
              "      <th>Current Ver</th>\n",
              "      <th>Android Ver</th>\n",
              "    </tr>\n",
              "  </thead>\n",
              "  <tbody>\n",
              "    <tr>\n",
              "      <th>0</th>\n",
              "      <td>Photo Editor &amp; Candy Camera &amp; Grid &amp; ScrapBook</td>\n",
              "      <td>ART_AND_DESIGN</td>\n",
              "      <td>4.1</td>\n",
              "      <td>159</td>\n",
              "      <td>19M</td>\n",
              "      <td>10,000+</td>\n",
              "      <td>Free</td>\n",
              "      <td>0</td>\n",
              "      <td>Everyone</td>\n",
              "      <td>Art &amp; Design</td>\n",
              "      <td>January 7, 2018</td>\n",
              "      <td>1.0.0</td>\n",
              "      <td>4.0.3 and up</td>\n",
              "    </tr>\n",
              "    <tr>\n",
              "      <th>1</th>\n",
              "      <td>Coloring book moana</td>\n",
              "      <td>ART_AND_DESIGN</td>\n",
              "      <td>3.9</td>\n",
              "      <td>967</td>\n",
              "      <td>14M</td>\n",
              "      <td>500,000+</td>\n",
              "      <td>Free</td>\n",
              "      <td>0</td>\n",
              "      <td>Everyone</td>\n",
              "      <td>Art &amp; Design;Pretend Play</td>\n",
              "      <td>January 15, 2018</td>\n",
              "      <td>2.0.0</td>\n",
              "      <td>4.0.3 and up</td>\n",
              "    </tr>\n",
              "    <tr>\n",
              "      <th>2</th>\n",
              "      <td>U Launcher Lite – FREE Live Cool Themes, Hide ...</td>\n",
              "      <td>ART_AND_DESIGN</td>\n",
              "      <td>4.7</td>\n",
              "      <td>87510</td>\n",
              "      <td>8.7M</td>\n",
              "      <td>5,000,000+</td>\n",
              "      <td>Free</td>\n",
              "      <td>0</td>\n",
              "      <td>Everyone</td>\n",
              "      <td>Art &amp; Design</td>\n",
              "      <td>August 1, 2018</td>\n",
              "      <td>1.2.4</td>\n",
              "      <td>4.0.3 and up</td>\n",
              "    </tr>\n",
              "    <tr>\n",
              "      <th>3</th>\n",
              "      <td>Sketch - Draw &amp; Paint</td>\n",
              "      <td>ART_AND_DESIGN</td>\n",
              "      <td>4.5</td>\n",
              "      <td>215644</td>\n",
              "      <td>25M</td>\n",
              "      <td>50,000,000+</td>\n",
              "      <td>Free</td>\n",
              "      <td>0</td>\n",
              "      <td>Teen</td>\n",
              "      <td>Art &amp; Design</td>\n",
              "      <td>June 8, 2018</td>\n",
              "      <td>Varies with device</td>\n",
              "      <td>4.2 and up</td>\n",
              "    </tr>\n",
              "    <tr>\n",
              "      <th>4</th>\n",
              "      <td>Pixel Draw - Number Art Coloring Book</td>\n",
              "      <td>ART_AND_DESIGN</td>\n",
              "      <td>4.3</td>\n",
              "      <td>967</td>\n",
              "      <td>2.8M</td>\n",
              "      <td>100,000+</td>\n",
              "      <td>Free</td>\n",
              "      <td>0</td>\n",
              "      <td>Everyone</td>\n",
              "      <td>Art &amp; Design;Creativity</td>\n",
              "      <td>June 20, 2018</td>\n",
              "      <td>1.1</td>\n",
              "      <td>4.4 and up</td>\n",
              "    </tr>\n",
              "    <tr>\n",
              "      <th>...</th>\n",
              "      <td>...</td>\n",
              "      <td>...</td>\n",
              "      <td>...</td>\n",
              "      <td>...</td>\n",
              "      <td>...</td>\n",
              "      <td>...</td>\n",
              "      <td>...</td>\n",
              "      <td>...</td>\n",
              "      <td>...</td>\n",
              "      <td>...</td>\n",
              "      <td>...</td>\n",
              "      <td>...</td>\n",
              "      <td>...</td>\n",
              "    </tr>\n",
              "    <tr>\n",
              "      <th>10836</th>\n",
              "      <td>Sya9a Maroc - FR</td>\n",
              "      <td>FAMILY</td>\n",
              "      <td>4.5</td>\n",
              "      <td>38</td>\n",
              "      <td>53M</td>\n",
              "      <td>5,000+</td>\n",
              "      <td>Free</td>\n",
              "      <td>0</td>\n",
              "      <td>Everyone</td>\n",
              "      <td>Education</td>\n",
              "      <td>July 25, 2017</td>\n",
              "      <td>1.48</td>\n",
              "      <td>4.1 and up</td>\n",
              "    </tr>\n",
              "    <tr>\n",
              "      <th>10837</th>\n",
              "      <td>Fr. Mike Schmitz Audio Teachings</td>\n",
              "      <td>FAMILY</td>\n",
              "      <td>5.0</td>\n",
              "      <td>4</td>\n",
              "      <td>3.6M</td>\n",
              "      <td>100+</td>\n",
              "      <td>Free</td>\n",
              "      <td>0</td>\n",
              "      <td>Everyone</td>\n",
              "      <td>Education</td>\n",
              "      <td>July 6, 2018</td>\n",
              "      <td>1.0</td>\n",
              "      <td>4.1 and up</td>\n",
              "    </tr>\n",
              "    <tr>\n",
              "      <th>10838</th>\n",
              "      <td>Parkinson Exercices FR</td>\n",
              "      <td>MEDICAL</td>\n",
              "      <td>NaN</td>\n",
              "      <td>3</td>\n",
              "      <td>9.5M</td>\n",
              "      <td>1,000+</td>\n",
              "      <td>Free</td>\n",
              "      <td>0</td>\n",
              "      <td>Everyone</td>\n",
              "      <td>Medical</td>\n",
              "      <td>January 20, 2017</td>\n",
              "      <td>1.0</td>\n",
              "      <td>2.2 and up</td>\n",
              "    </tr>\n",
              "    <tr>\n",
              "      <th>10839</th>\n",
              "      <td>The SCP Foundation DB fr nn5n</td>\n",
              "      <td>BOOKS_AND_REFERENCE</td>\n",
              "      <td>4.5</td>\n",
              "      <td>114</td>\n",
              "      <td>Varies with device</td>\n",
              "      <td>1,000+</td>\n",
              "      <td>Free</td>\n",
              "      <td>0</td>\n",
              "      <td>Mature 17+</td>\n",
              "      <td>Books &amp; Reference</td>\n",
              "      <td>January 19, 2015</td>\n",
              "      <td>Varies with device</td>\n",
              "      <td>Varies with device</td>\n",
              "    </tr>\n",
              "    <tr>\n",
              "      <th>10840</th>\n",
              "      <td>iHoroscope - 2018 Daily Horoscope &amp; Astrology</td>\n",
              "      <td>LIFESTYLE</td>\n",
              "      <td>4.5</td>\n",
              "      <td>398307</td>\n",
              "      <td>19M</td>\n",
              "      <td>10,000,000+</td>\n",
              "      <td>Free</td>\n",
              "      <td>0</td>\n",
              "      <td>Everyone</td>\n",
              "      <td>Lifestyle</td>\n",
              "      <td>July 25, 2018</td>\n",
              "      <td>Varies with device</td>\n",
              "      <td>Varies with device</td>\n",
              "    </tr>\n",
              "  </tbody>\n",
              "</table>\n",
              "<p>10841 rows × 13 columns</p>\n",
              "</div>\n",
              "      <button class=\"colab-df-convert\" onclick=\"convertToInteractive('df-5caaaefc-dce1-4b50-aa38-34e38053a681')\"\n",
              "              title=\"Convert this dataframe to an interactive table.\"\n",
              "              style=\"display:none;\">\n",
              "        \n",
              "  <svg xmlns=\"http://www.w3.org/2000/svg\" height=\"24px\"viewBox=\"0 0 24 24\"\n",
              "       width=\"24px\">\n",
              "    <path d=\"M0 0h24v24H0V0z\" fill=\"none\"/>\n",
              "    <path d=\"M18.56 5.44l.94 2.06.94-2.06 2.06-.94-2.06-.94-.94-2.06-.94 2.06-2.06.94zm-11 1L8.5 8.5l.94-2.06 2.06-.94-2.06-.94L8.5 2.5l-.94 2.06-2.06.94zm10 10l.94 2.06.94-2.06 2.06-.94-2.06-.94-.94-2.06-.94 2.06-2.06.94z\"/><path d=\"M17.41 7.96l-1.37-1.37c-.4-.4-.92-.59-1.43-.59-.52 0-1.04.2-1.43.59L10.3 9.45l-7.72 7.72c-.78.78-.78 2.05 0 2.83L4 21.41c.39.39.9.59 1.41.59.51 0 1.02-.2 1.41-.59l7.78-7.78 2.81-2.81c.8-.78.8-2.07 0-2.86zM5.41 20L4 18.59l7.72-7.72 1.47 1.35L5.41 20z\"/>\n",
              "  </svg>\n",
              "      </button>\n",
              "      \n",
              "  <style>\n",
              "    .colab-df-container {\n",
              "      display:flex;\n",
              "      flex-wrap:wrap;\n",
              "      gap: 12px;\n",
              "    }\n",
              "\n",
              "    .colab-df-convert {\n",
              "      background-color: #E8F0FE;\n",
              "      border: none;\n",
              "      border-radius: 50%;\n",
              "      cursor: pointer;\n",
              "      display: none;\n",
              "      fill: #1967D2;\n",
              "      height: 32px;\n",
              "      padding: 0 0 0 0;\n",
              "      width: 32px;\n",
              "    }\n",
              "\n",
              "    .colab-df-convert:hover {\n",
              "      background-color: #E2EBFA;\n",
              "      box-shadow: 0px 1px 2px rgba(60, 64, 67, 0.3), 0px 1px 3px 1px rgba(60, 64, 67, 0.15);\n",
              "      fill: #174EA6;\n",
              "    }\n",
              "\n",
              "    [theme=dark] .colab-df-convert {\n",
              "      background-color: #3B4455;\n",
              "      fill: #D2E3FC;\n",
              "    }\n",
              "\n",
              "    [theme=dark] .colab-df-convert:hover {\n",
              "      background-color: #434B5C;\n",
              "      box-shadow: 0px 1px 3px 1px rgba(0, 0, 0, 0.15);\n",
              "      filter: drop-shadow(0px 1px 2px rgba(0, 0, 0, 0.3));\n",
              "      fill: #FFFFFF;\n",
              "    }\n",
              "  </style>\n",
              "\n",
              "      <script>\n",
              "        const buttonEl =\n",
              "          document.querySelector('#df-5caaaefc-dce1-4b50-aa38-34e38053a681 button.colab-df-convert');\n",
              "        buttonEl.style.display =\n",
              "          google.colab.kernel.accessAllowed ? 'block' : 'none';\n",
              "\n",
              "        async function convertToInteractive(key) {\n",
              "          const element = document.querySelector('#df-5caaaefc-dce1-4b50-aa38-34e38053a681');\n",
              "          const dataTable =\n",
              "            await google.colab.kernel.invokeFunction('convertToInteractive',\n",
              "                                                     [key], {});\n",
              "          if (!dataTable) return;\n",
              "\n",
              "          const docLinkHtml = 'Like what you see? Visit the ' +\n",
              "            '<a target=\"_blank\" href=https://colab.research.google.com/notebooks/data_table.ipynb>data table notebook</a>'\n",
              "            + ' to learn more about interactive tables.';\n",
              "          element.innerHTML = '';\n",
              "          dataTable['output_type'] = 'display_data';\n",
              "          await google.colab.output.renderOutput(dataTable, element);\n",
              "          const docLink = document.createElement('div');\n",
              "          docLink.innerHTML = docLinkHtml;\n",
              "          element.appendChild(docLink);\n",
              "        }\n",
              "      </script>\n",
              "    </div>\n",
              "  </div>\n",
              "  "
            ]
          },
          "metadata": {},
          "execution_count": 6
        }
      ]
    },
    {
      "cell_type": "code",
      "metadata": {
        "id": "HL5MAVGQQokJ",
        "colab": {
          "base_uri": "https://localhost:8080/"
        },
        "outputId": "441d7dd5-412e-47ae-e2f9-6c8efd328f48"
      },
      "source": [
        "x1['population']\n",
        "x1.population.head()"
      ],
      "execution_count": null,
      "outputs": [
        {
          "output_type": "execute_result",
          "data": {
            "text/plain": [
              "0    1117489.0\n",
              "1    4817528.0\n",
              "2    1130966.0\n",
              "3    4785570.0\n",
              "4    1125763.0\n",
              "Name: population, dtype: float64"
            ]
          },
          "metadata": {},
          "execution_count": 4
        }
      ]
    },
    {
      "cell_type": "markdown",
      "metadata": {
        "id": "c9tjXvYvR5Rs"
      },
      "source": [
        "### Exemplo de acesso de variáveis no dataframe x1, importado via internet.\n",
        "\n",
        "> Bloco com recuo\n",
        "\n"
      ]
    },
    {
      "cell_type": "code",
      "metadata": {
        "id": "SCnt-O-rQokJ",
        "colab": {
          "base_uri": "https://localhost:8080/"
        },
        "outputId": "46eaf504-b883-40a7-fe35-538d7e8bc471"
      },
      "source": [
        "x1['state/region'].head()\n"
      ],
      "execution_count": null,
      "outputs": [
        {
          "output_type": "execute_result",
          "data": {
            "text/plain": [
              "0    AL\n",
              "1    AL\n",
              "2    AL\n",
              "3    AL\n",
              "4    AL\n",
              "Name: state/region, dtype: object"
            ]
          },
          "metadata": {},
          "execution_count": 5
        }
      ]
    },
    {
      "cell_type": "code",
      "metadata": {
        "id": "a1W0PaVeQokJ",
        "colab": {
          "base_uri": "https://localhost:8080/",
          "height": 423
        },
        "outputId": "ea49199f-7e18-424f-a030-f2c556db972c"
      },
      "source": [
        "x1[['year','population']]"
      ],
      "execution_count": null,
      "outputs": [
        {
          "output_type": "execute_result",
          "data": {
            "text/plain": [
              "      year   population\n",
              "0     2012    1117489.0\n",
              "1     2012    4817528.0\n",
              "2     2010    1130966.0\n",
              "3     2010    4785570.0\n",
              "4     2011    1125763.0\n",
              "...    ...          ...\n",
              "2539  2010  309326295.0\n",
              "2540  2011   73902222.0\n",
              "2541  2011  311582564.0\n",
              "2542  2012   73708179.0\n",
              "2543  2012  313873685.0\n",
              "\n",
              "[2544 rows x 2 columns]"
            ],
            "text/html": [
              "\n",
              "  <div id=\"df-a3aa576c-553e-44ce-bede-fe7b3ce3cbc5\">\n",
              "    <div class=\"colab-df-container\">\n",
              "      <div>\n",
              "<style scoped>\n",
              "    .dataframe tbody tr th:only-of-type {\n",
              "        vertical-align: middle;\n",
              "    }\n",
              "\n",
              "    .dataframe tbody tr th {\n",
              "        vertical-align: top;\n",
              "    }\n",
              "\n",
              "    .dataframe thead th {\n",
              "        text-align: right;\n",
              "    }\n",
              "</style>\n",
              "<table border=\"1\" class=\"dataframe\">\n",
              "  <thead>\n",
              "    <tr style=\"text-align: right;\">\n",
              "      <th></th>\n",
              "      <th>year</th>\n",
              "      <th>population</th>\n",
              "    </tr>\n",
              "  </thead>\n",
              "  <tbody>\n",
              "    <tr>\n",
              "      <th>0</th>\n",
              "      <td>2012</td>\n",
              "      <td>1117489.0</td>\n",
              "    </tr>\n",
              "    <tr>\n",
              "      <th>1</th>\n",
              "      <td>2012</td>\n",
              "      <td>4817528.0</td>\n",
              "    </tr>\n",
              "    <tr>\n",
              "      <th>2</th>\n",
              "      <td>2010</td>\n",
              "      <td>1130966.0</td>\n",
              "    </tr>\n",
              "    <tr>\n",
              "      <th>3</th>\n",
              "      <td>2010</td>\n",
              "      <td>4785570.0</td>\n",
              "    </tr>\n",
              "    <tr>\n",
              "      <th>4</th>\n",
              "      <td>2011</td>\n",
              "      <td>1125763.0</td>\n",
              "    </tr>\n",
              "    <tr>\n",
              "      <th>...</th>\n",
              "      <td>...</td>\n",
              "      <td>...</td>\n",
              "    </tr>\n",
              "    <tr>\n",
              "      <th>2539</th>\n",
              "      <td>2010</td>\n",
              "      <td>309326295.0</td>\n",
              "    </tr>\n",
              "    <tr>\n",
              "      <th>2540</th>\n",
              "      <td>2011</td>\n",
              "      <td>73902222.0</td>\n",
              "    </tr>\n",
              "    <tr>\n",
              "      <th>2541</th>\n",
              "      <td>2011</td>\n",
              "      <td>311582564.0</td>\n",
              "    </tr>\n",
              "    <tr>\n",
              "      <th>2542</th>\n",
              "      <td>2012</td>\n",
              "      <td>73708179.0</td>\n",
              "    </tr>\n",
              "    <tr>\n",
              "      <th>2543</th>\n",
              "      <td>2012</td>\n",
              "      <td>313873685.0</td>\n",
              "    </tr>\n",
              "  </tbody>\n",
              "</table>\n",
              "<p>2544 rows × 2 columns</p>\n",
              "</div>\n",
              "      <button class=\"colab-df-convert\" onclick=\"convertToInteractive('df-a3aa576c-553e-44ce-bede-fe7b3ce3cbc5')\"\n",
              "              title=\"Convert this dataframe to an interactive table.\"\n",
              "              style=\"display:none;\">\n",
              "        \n",
              "  <svg xmlns=\"http://www.w3.org/2000/svg\" height=\"24px\"viewBox=\"0 0 24 24\"\n",
              "       width=\"24px\">\n",
              "    <path d=\"M0 0h24v24H0V0z\" fill=\"none\"/>\n",
              "    <path d=\"M18.56 5.44l.94 2.06.94-2.06 2.06-.94-2.06-.94-.94-2.06-.94 2.06-2.06.94zm-11 1L8.5 8.5l.94-2.06 2.06-.94-2.06-.94L8.5 2.5l-.94 2.06-2.06.94zm10 10l.94 2.06.94-2.06 2.06-.94-2.06-.94-.94-2.06-.94 2.06-2.06.94z\"/><path d=\"M17.41 7.96l-1.37-1.37c-.4-.4-.92-.59-1.43-.59-.52 0-1.04.2-1.43.59L10.3 9.45l-7.72 7.72c-.78.78-.78 2.05 0 2.83L4 21.41c.39.39.9.59 1.41.59.51 0 1.02-.2 1.41-.59l7.78-7.78 2.81-2.81c.8-.78.8-2.07 0-2.86zM5.41 20L4 18.59l7.72-7.72 1.47 1.35L5.41 20z\"/>\n",
              "  </svg>\n",
              "      </button>\n",
              "      \n",
              "  <style>\n",
              "    .colab-df-container {\n",
              "      display:flex;\n",
              "      flex-wrap:wrap;\n",
              "      gap: 12px;\n",
              "    }\n",
              "\n",
              "    .colab-df-convert {\n",
              "      background-color: #E8F0FE;\n",
              "      border: none;\n",
              "      border-radius: 50%;\n",
              "      cursor: pointer;\n",
              "      display: none;\n",
              "      fill: #1967D2;\n",
              "      height: 32px;\n",
              "      padding: 0 0 0 0;\n",
              "      width: 32px;\n",
              "    }\n",
              "\n",
              "    .colab-df-convert:hover {\n",
              "      background-color: #E2EBFA;\n",
              "      box-shadow: 0px 1px 2px rgba(60, 64, 67, 0.3), 0px 1px 3px 1px rgba(60, 64, 67, 0.15);\n",
              "      fill: #174EA6;\n",
              "    }\n",
              "\n",
              "    [theme=dark] .colab-df-convert {\n",
              "      background-color: #3B4455;\n",
              "      fill: #D2E3FC;\n",
              "    }\n",
              "\n",
              "    [theme=dark] .colab-df-convert:hover {\n",
              "      background-color: #434B5C;\n",
              "      box-shadow: 0px 1px 3px 1px rgba(0, 0, 0, 0.15);\n",
              "      filter: drop-shadow(0px 1px 2px rgba(0, 0, 0, 0.3));\n",
              "      fill: #FFFFFF;\n",
              "    }\n",
              "  </style>\n",
              "\n",
              "      <script>\n",
              "        const buttonEl =\n",
              "          document.querySelector('#df-a3aa576c-553e-44ce-bede-fe7b3ce3cbc5 button.colab-df-convert');\n",
              "        buttonEl.style.display =\n",
              "          google.colab.kernel.accessAllowed ? 'block' : 'none';\n",
              "\n",
              "        async function convertToInteractive(key) {\n",
              "          const element = document.querySelector('#df-a3aa576c-553e-44ce-bede-fe7b3ce3cbc5');\n",
              "          const dataTable =\n",
              "            await google.colab.kernel.invokeFunction('convertToInteractive',\n",
              "                                                     [key], {});\n",
              "          if (!dataTable) return;\n",
              "\n",
              "          const docLinkHtml = 'Like what you see? Visit the ' +\n",
              "            '<a target=\"_blank\" href=https://colab.research.google.com/notebooks/data_table.ipynb>data table notebook</a>'\n",
              "            + ' to learn more about interactive tables.';\n",
              "          element.innerHTML = '';\n",
              "          dataTable['output_type'] = 'display_data';\n",
              "          await google.colab.output.renderOutput(dataTable, element);\n",
              "          const docLink = document.createElement('div');\n",
              "          docLink.innerHTML = docLinkHtml;\n",
              "          element.appendChild(docLink);\n",
              "        }\n",
              "      </script>\n",
              "    </div>\n",
              "  </div>\n",
              "  "
            ]
          },
          "metadata": {},
          "execution_count": 6
        }
      ]
    },
    {
      "cell_type": "code",
      "metadata": {
        "id": "qETGOfIGQokK",
        "colab": {
          "base_uri": "https://localhost:8080/"
        },
        "outputId": "ffc42277-ee64-499b-ab08-311ce2b672d7"
      },
      "source": [
        " x2 = x1.iloc[:,0] == 'AL'\n",
        " x2.head()  "
      ],
      "execution_count": null,
      "outputs": [
        {
          "output_type": "execute_result",
          "data": {
            "text/plain": [
              "0    True\n",
              "1    True\n",
              "2    True\n",
              "3    True\n",
              "4    True\n",
              "Name: state/region, dtype: bool"
            ]
          },
          "metadata": {},
          "execution_count": 7
        }
      ]
    },
    {
      "cell_type": "code",
      "metadata": {
        "id": "ZwJSUK4ZQokK"
      },
      "source": [
        "x1[x2].head()"
      ],
      "execution_count": null,
      "outputs": []
    },
    {
      "cell_type": "code",
      "metadata": {
        "id": "RHzi34hfQokK"
      },
      "source": [
        "x3 = x1[x2][x1.ages=='total']\n",
        "x3.head()"
      ],
      "execution_count": null,
      "outputs": []
    },
    {
      "cell_type": "markdown",
      "metadata": {
        "id": "djezYoQsSlq4"
      },
      "source": [
        "### Exemplos de uso de funcionalidades de traçado de gráficos"
      ]
    },
    {
      "cell_type": "code",
      "metadata": {
        "collapsed": true,
        "id": "Up5mLZ3sQokK"
      },
      "source": [
        "import matplotlib.pyplot as plt"
      ],
      "execution_count": null,
      "outputs": []
    },
    {
      "cell_type": "code",
      "metadata": {
        "id": "vkoRk8FSQokL"
      },
      "source": [
        "%matplotlib inline  \n",
        "x3['population'].plot()"
      ],
      "execution_count": null,
      "outputs": []
    },
    {
      "cell_type": "code",
      "metadata": {
        "id": "MxhUUKafQokL"
      },
      "source": [
        "plt.show()"
      ],
      "execution_count": null,
      "outputs": []
    },
    {
      "cell_type": "code",
      "metadata": {
        "id": "o-ByNTW6QokL"
      },
      "source": [
        "x3.plot()"
      ],
      "execution_count": null,
      "outputs": []
    },
    {
      "cell_type": "code",
      "metadata": {
        "id": "wa_g1x7wQokL"
      },
      "source": [
        "plt.show()"
      ],
      "execution_count": null,
      "outputs": []
    },
    {
      "cell_type": "code",
      "metadata": {
        "id": "7WvxpLufQokL"
      },
      "source": [
        "plt.hist(x3.population)"
      ],
      "execution_count": null,
      "outputs": []
    },
    {
      "cell_type": "code",
      "metadata": {
        "id": "xkdyFeZRQokM"
      },
      "source": [
        "plt.show()"
      ],
      "execution_count": null,
      "outputs": []
    },
    {
      "cell_type": "code",
      "metadata": {
        "id": "nB4aht5IQokM"
      },
      "source": [
        "plt.scatter(x3.year, x3.population)"
      ],
      "execution_count": null,
      "outputs": []
    },
    {
      "cell_type": "code",
      "metadata": {
        "id": "OBata0cHQokM"
      },
      "source": [
        "x3.set_index('year', inplace = True)\n",
        "x3['population']"
      ],
      "execution_count": null,
      "outputs": []
    },
    {
      "cell_type": "code",
      "metadata": {
        "id": "4ffWdPPzQokM"
      },
      "source": [
        "plt.show()"
      ],
      "execution_count": null,
      "outputs": []
    },
    {
      "cell_type": "markdown",
      "metadata": {
        "id": "ihwBUYZMQokM"
      },
      "source": [
        "### Exemplo de importação de arquivo da base do pacote sklearn"
      ]
    },
    {
      "cell_type": "code",
      "metadata": {
        "id": "qfNOiGKcQokN",
        "colab": {
          "base_uri": "https://localhost:8080/"
        },
        "outputId": "7d055a6a-ddb0-43d2-b6da-50329791c220"
      },
      "source": [
        "from sklearn.datasets import load_iris\n",
        "iris = load_iris()\n",
        "data = iris.data\n",
        "column_names = iris.feature_names\n",
        "type(iris)\n",
        "#type(data)\n",
        "type(column_names)\n",
        "#iris"
      ],
      "execution_count": null,
      "outputs": [
        {
          "output_type": "execute_result",
          "data": {
            "text/plain": [
              "list"
            ]
          },
          "metadata": {},
          "execution_count": 8
        }
      ]
    },
    {
      "cell_type": "code",
      "metadata": {
        "id": "P7rx6f1ZQokN"
      },
      "source": [
        "#df = pd.DataFrame(iris, columns = [column_names])\n",
        "df = pd.DataFrame(iris.data, columns = iris.feature_names)"
      ],
      "execution_count": null,
      "outputs": []
    },
    {
      "cell_type": "code",
      "metadata": {
        "id": "UnPLp2pVQokN",
        "colab": {
          "base_uri": "https://localhost:8080/",
          "height": 423
        },
        "outputId": "02368b3f-da0e-49ec-d6c8-055e086c641f"
      },
      "source": [
        "df"
      ],
      "execution_count": null,
      "outputs": [
        {
          "output_type": "execute_result",
          "data": {
            "text/plain": [
              "     sepal length (cm)  sepal width (cm)  petal length (cm)  petal width (cm)\n",
              "0                  5.1               3.5                1.4               0.2\n",
              "1                  4.9               3.0                1.4               0.2\n",
              "2                  4.7               3.2                1.3               0.2\n",
              "3                  4.6               3.1                1.5               0.2\n",
              "4                  5.0               3.6                1.4               0.2\n",
              "..                 ...               ...                ...               ...\n",
              "145                6.7               3.0                5.2               2.3\n",
              "146                6.3               2.5                5.0               1.9\n",
              "147                6.5               3.0                5.2               2.0\n",
              "148                6.2               3.4                5.4               2.3\n",
              "149                5.9               3.0                5.1               1.8\n",
              "\n",
              "[150 rows x 4 columns]"
            ],
            "text/html": [
              "\n",
              "  <div id=\"df-7ddf64c8-1ba4-4480-ae9a-bafbd4f48b9b\">\n",
              "    <div class=\"colab-df-container\">\n",
              "      <div>\n",
              "<style scoped>\n",
              "    .dataframe tbody tr th:only-of-type {\n",
              "        vertical-align: middle;\n",
              "    }\n",
              "\n",
              "    .dataframe tbody tr th {\n",
              "        vertical-align: top;\n",
              "    }\n",
              "\n",
              "    .dataframe thead th {\n",
              "        text-align: right;\n",
              "    }\n",
              "</style>\n",
              "<table border=\"1\" class=\"dataframe\">\n",
              "  <thead>\n",
              "    <tr style=\"text-align: right;\">\n",
              "      <th></th>\n",
              "      <th>sepal length (cm)</th>\n",
              "      <th>sepal width (cm)</th>\n",
              "      <th>petal length (cm)</th>\n",
              "      <th>petal width (cm)</th>\n",
              "    </tr>\n",
              "  </thead>\n",
              "  <tbody>\n",
              "    <tr>\n",
              "      <th>0</th>\n",
              "      <td>5.1</td>\n",
              "      <td>3.5</td>\n",
              "      <td>1.4</td>\n",
              "      <td>0.2</td>\n",
              "    </tr>\n",
              "    <tr>\n",
              "      <th>1</th>\n",
              "      <td>4.9</td>\n",
              "      <td>3.0</td>\n",
              "      <td>1.4</td>\n",
              "      <td>0.2</td>\n",
              "    </tr>\n",
              "    <tr>\n",
              "      <th>2</th>\n",
              "      <td>4.7</td>\n",
              "      <td>3.2</td>\n",
              "      <td>1.3</td>\n",
              "      <td>0.2</td>\n",
              "    </tr>\n",
              "    <tr>\n",
              "      <th>3</th>\n",
              "      <td>4.6</td>\n",
              "      <td>3.1</td>\n",
              "      <td>1.5</td>\n",
              "      <td>0.2</td>\n",
              "    </tr>\n",
              "    <tr>\n",
              "      <th>4</th>\n",
              "      <td>5.0</td>\n",
              "      <td>3.6</td>\n",
              "      <td>1.4</td>\n",
              "      <td>0.2</td>\n",
              "    </tr>\n",
              "    <tr>\n",
              "      <th>...</th>\n",
              "      <td>...</td>\n",
              "      <td>...</td>\n",
              "      <td>...</td>\n",
              "      <td>...</td>\n",
              "    </tr>\n",
              "    <tr>\n",
              "      <th>145</th>\n",
              "      <td>6.7</td>\n",
              "      <td>3.0</td>\n",
              "      <td>5.2</td>\n",
              "      <td>2.3</td>\n",
              "    </tr>\n",
              "    <tr>\n",
              "      <th>146</th>\n",
              "      <td>6.3</td>\n",
              "      <td>2.5</td>\n",
              "      <td>5.0</td>\n",
              "      <td>1.9</td>\n",
              "    </tr>\n",
              "    <tr>\n",
              "      <th>147</th>\n",
              "      <td>6.5</td>\n",
              "      <td>3.0</td>\n",
              "      <td>5.2</td>\n",
              "      <td>2.0</td>\n",
              "    </tr>\n",
              "    <tr>\n",
              "      <th>148</th>\n",
              "      <td>6.2</td>\n",
              "      <td>3.4</td>\n",
              "      <td>5.4</td>\n",
              "      <td>2.3</td>\n",
              "    </tr>\n",
              "    <tr>\n",
              "      <th>149</th>\n",
              "      <td>5.9</td>\n",
              "      <td>3.0</td>\n",
              "      <td>5.1</td>\n",
              "      <td>1.8</td>\n",
              "    </tr>\n",
              "  </tbody>\n",
              "</table>\n",
              "<p>150 rows × 4 columns</p>\n",
              "</div>\n",
              "      <button class=\"colab-df-convert\" onclick=\"convertToInteractive('df-7ddf64c8-1ba4-4480-ae9a-bafbd4f48b9b')\"\n",
              "              title=\"Convert this dataframe to an interactive table.\"\n",
              "              style=\"display:none;\">\n",
              "        \n",
              "  <svg xmlns=\"http://www.w3.org/2000/svg\" height=\"24px\"viewBox=\"0 0 24 24\"\n",
              "       width=\"24px\">\n",
              "    <path d=\"M0 0h24v24H0V0z\" fill=\"none\"/>\n",
              "    <path d=\"M18.56 5.44l.94 2.06.94-2.06 2.06-.94-2.06-.94-.94-2.06-.94 2.06-2.06.94zm-11 1L8.5 8.5l.94-2.06 2.06-.94-2.06-.94L8.5 2.5l-.94 2.06-2.06.94zm10 10l.94 2.06.94-2.06 2.06-.94-2.06-.94-.94-2.06-.94 2.06-2.06.94z\"/><path d=\"M17.41 7.96l-1.37-1.37c-.4-.4-.92-.59-1.43-.59-.52 0-1.04.2-1.43.59L10.3 9.45l-7.72 7.72c-.78.78-.78 2.05 0 2.83L4 21.41c.39.39.9.59 1.41.59.51 0 1.02-.2 1.41-.59l7.78-7.78 2.81-2.81c.8-.78.8-2.07 0-2.86zM5.41 20L4 18.59l7.72-7.72 1.47 1.35L5.41 20z\"/>\n",
              "  </svg>\n",
              "      </button>\n",
              "      \n",
              "  <style>\n",
              "    .colab-df-container {\n",
              "      display:flex;\n",
              "      flex-wrap:wrap;\n",
              "      gap: 12px;\n",
              "    }\n",
              "\n",
              "    .colab-df-convert {\n",
              "      background-color: #E8F0FE;\n",
              "      border: none;\n",
              "      border-radius: 50%;\n",
              "      cursor: pointer;\n",
              "      display: none;\n",
              "      fill: #1967D2;\n",
              "      height: 32px;\n",
              "      padding: 0 0 0 0;\n",
              "      width: 32px;\n",
              "    }\n",
              "\n",
              "    .colab-df-convert:hover {\n",
              "      background-color: #E2EBFA;\n",
              "      box-shadow: 0px 1px 2px rgba(60, 64, 67, 0.3), 0px 1px 3px 1px rgba(60, 64, 67, 0.15);\n",
              "      fill: #174EA6;\n",
              "    }\n",
              "\n",
              "    [theme=dark] .colab-df-convert {\n",
              "      background-color: #3B4455;\n",
              "      fill: #D2E3FC;\n",
              "    }\n",
              "\n",
              "    [theme=dark] .colab-df-convert:hover {\n",
              "      background-color: #434B5C;\n",
              "      box-shadow: 0px 1px 3px 1px rgba(0, 0, 0, 0.15);\n",
              "      filter: drop-shadow(0px 1px 2px rgba(0, 0, 0, 0.3));\n",
              "      fill: #FFFFFF;\n",
              "    }\n",
              "  </style>\n",
              "\n",
              "      <script>\n",
              "        const buttonEl =\n",
              "          document.querySelector('#df-7ddf64c8-1ba4-4480-ae9a-bafbd4f48b9b button.colab-df-convert');\n",
              "        buttonEl.style.display =\n",
              "          google.colab.kernel.accessAllowed ? 'block' : 'none';\n",
              "\n",
              "        async function convertToInteractive(key) {\n",
              "          const element = document.querySelector('#df-7ddf64c8-1ba4-4480-ae9a-bafbd4f48b9b');\n",
              "          const dataTable =\n",
              "            await google.colab.kernel.invokeFunction('convertToInteractive',\n",
              "                                                     [key], {});\n",
              "          if (!dataTable) return;\n",
              "\n",
              "          const docLinkHtml = 'Like what you see? Visit the ' +\n",
              "            '<a target=\"_blank\" href=https://colab.research.google.com/notebooks/data_table.ipynb>data table notebook</a>'\n",
              "            + ' to learn more about interactive tables.';\n",
              "          element.innerHTML = '';\n",
              "          dataTable['output_type'] = 'display_data';\n",
              "          await google.colab.output.renderOutput(dataTable, element);\n",
              "          const docLink = document.createElement('div');\n",
              "          docLink.innerHTML = docLinkHtml;\n",
              "          element.appendChild(docLink);\n",
              "        }\n",
              "      </script>\n",
              "    </div>\n",
              "  </div>\n",
              "  "
            ]
          },
          "metadata": {},
          "execution_count": 11
        }
      ]
    },
    {
      "cell_type": "code",
      "metadata": {
        "id": "-0oCbZf7TDnQ"
      },
      "source": [],
      "execution_count": null,
      "outputs": []
    },
    {
      "cell_type": "markdown",
      "metadata": {
        "id": "ZscQX-gDQokN"
      },
      "source": [
        "### Exemplos de bases de dados disponíveis no pacote sklearn\n",
        "\n",
        "- load_boston() ----->   Load and return the boston house-prices dataset (regression).\n",
        "\n",
        "- load_iris()  -----> Load and return the iris dataset (classification).\n",
        "\n",
        "- load_diabetes()    ----->    Load and return the diabetes dataset (regression).\n",
        "\n",
        "- load_digits([n_class]) -----> Load and return the digits dataset (classification).\n",
        "\n",
        "- load_linnerud()    ----->    Load and return the linnerud dataset (multivariate regression)."
      ]
    },
    {
      "cell_type": "markdown",
      "metadata": {
        "id": "zdrb44pmQokN"
      },
      "source": [
        "### Exemplo de importação de arquivo da base do pacote seaborn"
      ]
    },
    {
      "cell_type": "code",
      "metadata": {
        "id": "0p7fy9A4QokN",
        "colab": {
          "base_uri": "https://localhost:8080/",
          "height": 323
        },
        "outputId": "f19cfd89-1af1-4140-e824-ec4b4a911196"
      },
      "source": [
        "# O dataset do pacote seaborn está em formato DataFrame-Pandas\n",
        "import seaborn.apionly as sns\n",
        "iris = sns.load_dataset('iris')\n",
        "iris.head(7)"
      ],
      "execution_count": null,
      "outputs": [
        {
          "output_type": "stream",
          "name": "stderr",
          "text": [
            "/usr/local/lib/python3.7/dist-packages/seaborn/apionly.py:9: UserWarning: As seaborn no longer sets a default style on import, the seaborn.apionly module is deprecated. It will be removed in a future version.\n",
            "  warnings.warn(msg, UserWarning)\n"
          ]
        },
        {
          "output_type": "execute_result",
          "data": {
            "text/plain": [
              "   sepal_length  sepal_width  petal_length  petal_width species\n",
              "0           5.1          3.5           1.4          0.2  setosa\n",
              "1           4.9          3.0           1.4          0.2  setosa\n",
              "2           4.7          3.2           1.3          0.2  setosa\n",
              "3           4.6          3.1           1.5          0.2  setosa\n",
              "4           5.0          3.6           1.4          0.2  setosa\n",
              "5           5.4          3.9           1.7          0.4  setosa\n",
              "6           4.6          3.4           1.4          0.3  setosa"
            ],
            "text/html": [
              "\n",
              "  <div id=\"df-28fdbbc0-ceca-447e-9c9f-813bc19c622c\">\n",
              "    <div class=\"colab-df-container\">\n",
              "      <div>\n",
              "<style scoped>\n",
              "    .dataframe tbody tr th:only-of-type {\n",
              "        vertical-align: middle;\n",
              "    }\n",
              "\n",
              "    .dataframe tbody tr th {\n",
              "        vertical-align: top;\n",
              "    }\n",
              "\n",
              "    .dataframe thead th {\n",
              "        text-align: right;\n",
              "    }\n",
              "</style>\n",
              "<table border=\"1\" class=\"dataframe\">\n",
              "  <thead>\n",
              "    <tr style=\"text-align: right;\">\n",
              "      <th></th>\n",
              "      <th>sepal_length</th>\n",
              "      <th>sepal_width</th>\n",
              "      <th>petal_length</th>\n",
              "      <th>petal_width</th>\n",
              "      <th>species</th>\n",
              "    </tr>\n",
              "  </thead>\n",
              "  <tbody>\n",
              "    <tr>\n",
              "      <th>0</th>\n",
              "      <td>5.1</td>\n",
              "      <td>3.5</td>\n",
              "      <td>1.4</td>\n",
              "      <td>0.2</td>\n",
              "      <td>setosa</td>\n",
              "    </tr>\n",
              "    <tr>\n",
              "      <th>1</th>\n",
              "      <td>4.9</td>\n",
              "      <td>3.0</td>\n",
              "      <td>1.4</td>\n",
              "      <td>0.2</td>\n",
              "      <td>setosa</td>\n",
              "    </tr>\n",
              "    <tr>\n",
              "      <th>2</th>\n",
              "      <td>4.7</td>\n",
              "      <td>3.2</td>\n",
              "      <td>1.3</td>\n",
              "      <td>0.2</td>\n",
              "      <td>setosa</td>\n",
              "    </tr>\n",
              "    <tr>\n",
              "      <th>3</th>\n",
              "      <td>4.6</td>\n",
              "      <td>3.1</td>\n",
              "      <td>1.5</td>\n",
              "      <td>0.2</td>\n",
              "      <td>setosa</td>\n",
              "    </tr>\n",
              "    <tr>\n",
              "      <th>4</th>\n",
              "      <td>5.0</td>\n",
              "      <td>3.6</td>\n",
              "      <td>1.4</td>\n",
              "      <td>0.2</td>\n",
              "      <td>setosa</td>\n",
              "    </tr>\n",
              "    <tr>\n",
              "      <th>5</th>\n",
              "      <td>5.4</td>\n",
              "      <td>3.9</td>\n",
              "      <td>1.7</td>\n",
              "      <td>0.4</td>\n",
              "      <td>setosa</td>\n",
              "    </tr>\n",
              "    <tr>\n",
              "      <th>6</th>\n",
              "      <td>4.6</td>\n",
              "      <td>3.4</td>\n",
              "      <td>1.4</td>\n",
              "      <td>0.3</td>\n",
              "      <td>setosa</td>\n",
              "    </tr>\n",
              "  </tbody>\n",
              "</table>\n",
              "</div>\n",
              "      <button class=\"colab-df-convert\" onclick=\"convertToInteractive('df-28fdbbc0-ceca-447e-9c9f-813bc19c622c')\"\n",
              "              title=\"Convert this dataframe to an interactive table.\"\n",
              "              style=\"display:none;\">\n",
              "        \n",
              "  <svg xmlns=\"http://www.w3.org/2000/svg\" height=\"24px\"viewBox=\"0 0 24 24\"\n",
              "       width=\"24px\">\n",
              "    <path d=\"M0 0h24v24H0V0z\" fill=\"none\"/>\n",
              "    <path d=\"M18.56 5.44l.94 2.06.94-2.06 2.06-.94-2.06-.94-.94-2.06-.94 2.06-2.06.94zm-11 1L8.5 8.5l.94-2.06 2.06-.94-2.06-.94L8.5 2.5l-.94 2.06-2.06.94zm10 10l.94 2.06.94-2.06 2.06-.94-2.06-.94-.94-2.06-.94 2.06-2.06.94z\"/><path d=\"M17.41 7.96l-1.37-1.37c-.4-.4-.92-.59-1.43-.59-.52 0-1.04.2-1.43.59L10.3 9.45l-7.72 7.72c-.78.78-.78 2.05 0 2.83L4 21.41c.39.39.9.59 1.41.59.51 0 1.02-.2 1.41-.59l7.78-7.78 2.81-2.81c.8-.78.8-2.07 0-2.86zM5.41 20L4 18.59l7.72-7.72 1.47 1.35L5.41 20z\"/>\n",
              "  </svg>\n",
              "      </button>\n",
              "      \n",
              "  <style>\n",
              "    .colab-df-container {\n",
              "      display:flex;\n",
              "      flex-wrap:wrap;\n",
              "      gap: 12px;\n",
              "    }\n",
              "\n",
              "    .colab-df-convert {\n",
              "      background-color: #E8F0FE;\n",
              "      border: none;\n",
              "      border-radius: 50%;\n",
              "      cursor: pointer;\n",
              "      display: none;\n",
              "      fill: #1967D2;\n",
              "      height: 32px;\n",
              "      padding: 0 0 0 0;\n",
              "      width: 32px;\n",
              "    }\n",
              "\n",
              "    .colab-df-convert:hover {\n",
              "      background-color: #E2EBFA;\n",
              "      box-shadow: 0px 1px 2px rgba(60, 64, 67, 0.3), 0px 1px 3px 1px rgba(60, 64, 67, 0.15);\n",
              "      fill: #174EA6;\n",
              "    }\n",
              "\n",
              "    [theme=dark] .colab-df-convert {\n",
              "      background-color: #3B4455;\n",
              "      fill: #D2E3FC;\n",
              "    }\n",
              "\n",
              "    [theme=dark] .colab-df-convert:hover {\n",
              "      background-color: #434B5C;\n",
              "      box-shadow: 0px 1px 3px 1px rgba(0, 0, 0, 0.15);\n",
              "      filter: drop-shadow(0px 1px 2px rgba(0, 0, 0, 0.3));\n",
              "      fill: #FFFFFF;\n",
              "    }\n",
              "  </style>\n",
              "\n",
              "      <script>\n",
              "        const buttonEl =\n",
              "          document.querySelector('#df-28fdbbc0-ceca-447e-9c9f-813bc19c622c button.colab-df-convert');\n",
              "        buttonEl.style.display =\n",
              "          google.colab.kernel.accessAllowed ? 'block' : 'none';\n",
              "\n",
              "        async function convertToInteractive(key) {\n",
              "          const element = document.querySelector('#df-28fdbbc0-ceca-447e-9c9f-813bc19c622c');\n",
              "          const dataTable =\n",
              "            await google.colab.kernel.invokeFunction('convertToInteractive',\n",
              "                                                     [key], {});\n",
              "          if (!dataTable) return;\n",
              "\n",
              "          const docLinkHtml = 'Like what you see? Visit the ' +\n",
              "            '<a target=\"_blank\" href=https://colab.research.google.com/notebooks/data_table.ipynb>data table notebook</a>'\n",
              "            + ' to learn more about interactive tables.';\n",
              "          element.innerHTML = '';\n",
              "          dataTable['output_type'] = 'display_data';\n",
              "          await google.colab.output.renderOutput(dataTable, element);\n",
              "          const docLink = document.createElement('div');\n",
              "          docLink.innerHTML = docLinkHtml;\n",
              "          element.appendChild(docLink);\n",
              "        }\n",
              "      </script>\n",
              "    </div>\n",
              "  </div>\n",
              "  "
            ]
          },
          "metadata": {},
          "execution_count": 12
        }
      ]
    },
    {
      "cell_type": "markdown",
      "metadata": {
        "id": "hSUHjiOWQokO"
      },
      "source": [
        "### Importação de bases de dados disponível no repositório da Linguagem R\n",
        "\n",
        "- O ambiente da linguagem R possui um conjunta de bases muito úteis, que são utilizadas para teste.\n",
        "- É possível carregar essas bases no ambiente do Python."
      ]
    },
    {
      "cell_type": "code",
      "metadata": {
        "id": "Ji_pswfkQokO"
      },
      "source": [
        "# Instalar as base de dados da linguagem R\n",
        "! pip install pydataset"
      ],
      "execution_count": null,
      "outputs": []
    },
    {
      "cell_type": "code",
      "metadata": {
        "id": "Dvoc7pL0QokO"
      },
      "source": [
        "from pydataset import data\n",
        "\n",
        "data()"
      ],
      "execution_count": null,
      "outputs": []
    },
    {
      "cell_type": "code",
      "metadata": {
        "id": "BJid3puBQokO"
      },
      "source": [
        "# Carregando a base de dados Titanic\n",
        "passageiros_do_titanic = data('titanic')\n",
        "passageiros_do_titanic.head(8)"
      ],
      "execution_count": null,
      "outputs": []
    },
    {
      "cell_type": "markdown",
      "metadata": {
        "id": "iWKd4Yj1QokO"
      },
      "source": [
        "Exemplo de uso da base de dados Titanic com um dado do tipo Dataframe"
      ]
    },
    {
      "cell_type": "code",
      "metadata": {
        "id": "I8M19phmQokO"
      },
      "source": [
        "type(passageiros_do_titanic)"
      ],
      "execution_count": null,
      "outputs": []
    },
    {
      "cell_type": "code",
      "metadata": {
        "id": "8scxw-4sQokP"
      },
      "source": [
        "passageiros_do_titanic.head()"
      ],
      "execution_count": null,
      "outputs": []
    },
    {
      "cell_type": "code",
      "metadata": {
        "id": "y95qqgmjQokP"
      },
      "source": [
        "passageiros_do_titanic.describe()"
      ],
      "execution_count": null,
      "outputs": []
    },
    {
      "cell_type": "code",
      "metadata": {
        "id": "_byCIt3oQokP"
      },
      "source": [
        "passageiros_do_titanic['survived'].value_counts().plot(kind='bar')"
      ],
      "execution_count": null,
      "outputs": []
    },
    {
      "cell_type": "code",
      "metadata": {
        "scrolled": true,
        "id": "-vyaYYjLQokP"
      },
      "source": [
        "plt.show()  # Não é necessário"
      ],
      "execution_count": null,
      "outputs": []
    },
    {
      "cell_type": "markdown",
      "metadata": {
        "id": "GTjZTRJIQokP"
      },
      "source": [
        "## Exemplos de lugares e projetos para se obter dados"
      ]
    },
    {
      "cell_type": "markdown",
      "metadata": {
        "id": "a_0EQHpIQokP"
      },
      "source": [
        "### Dados da UFRN\n",
        "Site: https://dados.ufrn.br\n"
      ]
    },
    {
      "cell_type": "markdown",
      "metadata": {
        "id": "5L7h1n1dcspw"
      },
      "source": [
        "# Dados Aberto RN\n",
        "\n",
        "https://catalogo.dadosabertosrn.org/"
      ]
    },
    {
      "cell_type": "markdown",
      "metadata": {
        "id": "LWe-FTezQokQ"
      },
      "source": [
        "### Projeto Kaggle\n",
        "\n",
        "Site:\n",
        "https://www.kaggle.com/\n"
      ]
    },
    {
      "cell_type": "markdown",
      "metadata": {
        "id": "iaVGNAZQQokQ"
      },
      "source": [
        "### Dados do Datasus\n",
        "Site:\n",
        "http://www2.datasus.gov.br/DATASUS/"
      ]
    },
    {
      "cell_type": "markdown",
      "metadata": {
        "id": "LS4GoPtCQokQ"
      },
      "source": [
        "### Portal do IBGE\n",
        "\n",
        "Site: https://www.ibge.gov.br/estatisticas-novoportal\n"
      ]
    },
    {
      "cell_type": "markdown",
      "metadata": {
        "id": "AynOxDN1QokQ"
      },
      "source": [
        "### Operação Serenata de Amor\n",
        "\n",
        "- Inteligência Artificial Para Controle Social da Administração Pública\n",
        "\n",
        "Site: https://serenatadeamor.org/\n"
      ]
    },
    {
      "cell_type": "markdown",
      "metadata": {
        "id": "1uYvhidhQokQ"
      },
      "source": [
        "## Uso de NumPy em Pandas\n",
        "\n",
        "Assim como as funções do matplot, o Pandas também sobrecarrega as funções matemática do NumPy.\n",
        "- mean(), max(), min(), sum(), etc.\n",
        "\n",
        "\n",
        "Usaremos do arquivo \"planets\" da pacote Seaborn para exeplificar o uso dessas funções."
      ]
    },
    {
      "cell_type": "code",
      "metadata": {
        "id": "48CDuodVQokQ"
      },
      "source": [
        "# Arquivo sobre planetas do pacote Seaborn\n",
        "\n",
        "import seaborn as sns\n",
        "planets = sns.load_dataset('planets')\n",
        "planets.shape"
      ],
      "execution_count": null,
      "outputs": []
    },
    {
      "cell_type": "code",
      "metadata": {
        "id": "qlKJJbvWQokR"
      },
      "source": [
        "planets.head()"
      ],
      "execution_count": null,
      "outputs": []
    },
    {
      "cell_type": "code",
      "metadata": {
        "id": "KqGlHm9CQokR"
      },
      "source": [
        "planets.dropna().describe()"
      ],
      "execution_count": null,
      "outputs": []
    },
    {
      "cell_type": "code",
      "metadata": {
        "id": "c42a7LNeQokR"
      },
      "source": [
        "planets.describe()"
      ],
      "execution_count": null,
      "outputs": []
    },
    {
      "cell_type": "code",
      "metadata": {
        "id": "IJNqbW2uQokR"
      },
      "source": [
        "planets.max()"
      ],
      "execution_count": null,
      "outputs": []
    },
    {
      "cell_type": "markdown",
      "metadata": {
        "id": "NincYy-sU5p7"
      },
      "source": [
        "## Funcionalidades Avançadas para Tratamento de Dataframes\n",
        "Apresentar as funcionalidades de manipulação de tabelas do tipo GroupBy, Merge, Join e Concatenação."
      ]
    },
    {
      "cell_type": "markdown",
      "metadata": {
        "id": "nj_69KzTQokR"
      },
      "source": [
        "### GroupBy: Split, Apply, Combine\n",
        "\n",
        "As agregações simples em muitos casos podem ser suficientes, mas muitas vezes é preciso agregar diversas tabelas condicionalmente em algum rótulo ou índice: isso é implementado na chamada operação groupby. O nome \"groupBy\" vem de um comando na linguagem do banco de dados SQL, que representa a seguinte sequência de operações: dividir, aplicar, combinar.\n",
        "\n",
        "Passos: split, apply, combine.\n",
        "- O passo 'split' envolve dividir e agrupar um DataFrame dependendo do valor da chave especificada.\n",
        "- O passo 'apply' envolve a computação de alguma função, geralmente um agregado, transformação ou filtragem, dentro dos grupos individuais.\n",
        "- O passo 'combine' combina os resultados dessas operações em array de saída."
      ]
    },
    {
      "cell_type": "code",
      "metadata": {
        "id": "O1bs3gPCQokR"
      },
      "source": [
        "# Exemplo de uso de GroupBy\n",
        "# Definição de um DataFrame Pandas\n",
        "\n",
        "df = pd.DataFrame({'key': ['A', 'B', 'C', 'A', 'B', 'C'],\n",
        "                   'data': range(6)}, columns=['key', 'data'])\n",
        "df"
      ],
      "execution_count": null,
      "outputs": []
    },
    {
      "cell_type": "code",
      "metadata": {
        "id": "G6X4lMUGQokS"
      },
      "source": [
        "# Dividindo em grupos em função da coluna-chave 'key'\n",
        "df.groupby('key')\n"
      ],
      "execution_count": null,
      "outputs": []
    },
    {
      "cell_type": "markdown",
      "metadata": {
        "id": "I-wXgwolQokS"
      },
      "source": [
        "Observe que o retorno é um objeto do tipo groupyby."
      ]
    },
    {
      "cell_type": "code",
      "metadata": {
        "id": "dpWpVpClQokS"
      },
      "source": [
        "# Aplicando uma operação sobre o dado já agrupado (apply)\n",
        "df.groupby('key').sum()"
      ],
      "execution_count": null,
      "outputs": []
    },
    {
      "cell_type": "code",
      "metadata": {
        "id": "qzUjR56EXIOV"
      },
      "source": [
        "# Aplicando uma operação sobre o dado já agrupado (apply)\n",
        "df.groupby('key').max()"
      ],
      "execution_count": null,
      "outputs": []
    },
    {
      "cell_type": "markdown",
      "metadata": {
        "id": "Pw2Os5vAQokS"
      },
      "source": [
        "### Abordagem: Agregar, Filtrar, Transformar, Aplicar.\n",
        "Exemplo de uso dessa abordagem com o dataframe planets, carregado previamente."
      ]
    },
    {
      "cell_type": "code",
      "metadata": {
        "id": "W4YXdXfiQokS"
      },
      "source": [
        "# Exemplo com a base de dados 'planets'\n",
        "planets.head()"
      ],
      "execution_count": null,
      "outputs": []
    },
    {
      "cell_type": "code",
      "metadata": {
        "id": "fBUv8fzKQokS"
      },
      "source": [
        "# Divide em grupos pela coluna-chave 'method'\n",
        "planets.groupby('method').head()"
      ],
      "execution_count": null,
      "outputs": []
    },
    {
      "cell_type": "code",
      "metadata": {
        "id": "Q_VX7numQokT"
      },
      "source": [
        "# Divide em grupos pela coluna-chave 'method' e filtrar\n",
        "planets.groupby('method')['orbital_period']"
      ],
      "execution_count": null,
      "outputs": []
    },
    {
      "cell_type": "code",
      "metadata": {
        "id": "i0mo0mQGQokT"
      },
      "source": [
        "# Divide em grupos pela coluna-chave 'method', filtrar e aplicar\n",
        "print(\"Fornece a mediana dos perídos orbitais obtidos pelos diversos existentes no dataframe\\n\")\n",
        "planets.groupby('method')['orbital_period'].median()"
      ],
      "execution_count": null,
      "outputs": []
    },
    {
      "cell_type": "code",
      "metadata": {
        "id": "wl4euR-LQokT"
      },
      "source": [
        "# Divide em grupos pela coluna-chave 'method', filtrar e aplicar\n",
        "planets.groupby('method')['year'].describe()\n"
      ],
      "execution_count": null,
      "outputs": []
    },
    {
      "cell_type": "code",
      "metadata": {
        "id": "yjgtk5USQokT"
      },
      "source": [
        "# Divide em grupos pela coluna-chave 'method', filtrar e aplicar\n",
        "planets.groupby('method')['year'].describe().unstack()"
      ],
      "execution_count": null,
      "outputs": []
    },
    {
      "cell_type": "markdown",
      "metadata": {
        "id": "eUCddSAmQokT"
      },
      "source": [
        "### Combinando Datasets: Merge and Join\n",
        "Alguns dos mais interessantes estudos de dados provêm da combinação de diferentes fontes de dados. Essas operações podem envolver qualquer coisa, desde concatenação muito direta\n",
        "de dois conjuntos de dados diferentes para junções e fusões de estilo de banco de dados mais complicadas, que lidam com sobreposições entre os conjuntos de dados.\n",
        "\n",
        "Pandas possui funções e métodos\n",
        "que tornam esse tipo de manipulação de dados rápida e prática: funções de concatenação, merge e join.\n"
      ]
    },
    {
      "cell_type": "code",
      "metadata": {
        "collapsed": true,
        "id": "mnzRZj5aQokT"
      },
      "source": [
        "import pandas as pd\n",
        "import numpy as np"
      ],
      "execution_count": null,
      "outputs": []
    },
    {
      "cell_type": "code",
      "metadata": {
        "collapsed": true,
        "id": "KJLL4QAuQokU"
      },
      "source": [
        "# Definição de uma função para criação de DataFrames\n",
        "def make_df(cols, ind):\n",
        "   data = {c: [str(c) + str(i) for i in ind]\n",
        "       for c in cols}\n",
        "   return pd.DataFrame(data, ind)"
      ],
      "execution_count": null,
      "outputs": []
    },
    {
      "cell_type": "code",
      "metadata": {
        "id": "5XX8We_JQokU"
      },
      "source": [
        "# Exemplo de DataFrame\n",
        "make_df('ABC', range(3))"
      ],
      "execution_count": null,
      "outputs": []
    },
    {
      "cell_type": "markdown",
      "metadata": {
        "id": "06kUqYpcQokU"
      },
      "source": [
        "### Funcionalidade de Concatenação\n"
      ]
    },
    {
      "cell_type": "code",
      "metadata": {
        "id": "TS3AfuTiQokU"
      },
      "source": [
        "print(\"Exemplo de concatenação com NumPy\")\n",
        "x = [1, 2, 3]\n",
        "y = [4, 5, 6]\n",
        "z = [7, 8, 9]\n",
        "np.concatenate([x, y, z])"
      ],
      "execution_count": null,
      "outputs": []
    },
    {
      "cell_type": "code",
      "metadata": {
        "id": "seC2B2mFQokU"
      },
      "source": [
        "print(\"Exemplo de concatenação com NumPy, especificando o eixo\")\n",
        "x = [[1, 2],\n",
        "[3, 4]]\n",
        "np.concatenate([x, x], axis=1)"
      ],
      "execution_count": null,
      "outputs": []
    },
    {
      "cell_type": "markdown",
      "metadata": {
        "id": "1IpKPdArQokU"
      },
      "source": [
        "### Observação:\n",
        "Pandas tem uma função pd.concat(), a qual tem sintaxe similar à np.concatenate, mas contém váriais opções de parâmetros.\n",
        "\n",
        "Assinatura da função em Pandas v0.18\n",
        "\n",
        "pd.concat(objs, axis=0, join='outer', join_axes=None, ignore_index=False,\n",
        "keys=None, levels=None, names=None, verify_integrity=False,\n",
        "copy=True)"
      ]
    },
    {
      "cell_type": "code",
      "metadata": {
        "id": "dOiDfiRBQokV"
      },
      "source": [
        "print(\"Exemplo de uso da função de concatenação de tipo Serie em Pandas\")\n",
        "ser1 = pd.Series(['A', 'B', 'C'], index=[1, 2, 3])\n",
        "ser2 = pd.Series(['D', 'E', 'F'], index=[4, 5, 6])\n",
        "pd.concat([ser1, ser2])"
      ],
      "execution_count": null,
      "outputs": []
    },
    {
      "cell_type": "code",
      "metadata": {
        "id": "JCrxn3BXQokV"
      },
      "source": [
        "print(\"Exemplo de uso da função de concatenação de tipo DataFrames em Pandas\")\n",
        "df1 = make_df('AB', [1, 2])\n",
        "df2 = make_df('AB', [3, 4])\n",
        "print(df1)\n",
        "print()\n",
        "print(df2)\n",
        "print()\n",
        "print(pd.concat([df1, df2]))"
      ],
      "execution_count": null,
      "outputs": []
    },
    {
      "cell_type": "markdown",
      "metadata": {
        "id": "ev3b1PhJQokV"
      },
      "source": [
        "### Observação:\n",
        "Por default, a concatenação é realizada por linha no DataFrame (axis=0). \n",
        "\n",
        "Como no  np.concatenate(), pd.concat() permite especificar o eixo ao qual será realizada a concatenação."
      ]
    },
    {
      "cell_type": "code",
      "metadata": {
        "id": "rcOIYEIiQokW"
      },
      "source": [
        "print(\"Exemplo de uso da função de concatenação de tipo DataFrames em Pandas\")\n",
        "\n",
        "print(\" - com seleção do eixo 1\")\n",
        "      \n",
        "df3 = make_df('AB', [0, 1])\n",
        "df4 = make_df('CD', [0, 1])\n",
        "print(df3)\n",
        "print()\n",
        "print(df4)\n",
        "print()\n",
        "print(\"Concatenação pelo eixo 1\")\n",
        "print(pd.concat([df3, df4], axis=1))"
      ],
      "execution_count": null,
      "outputs": []
    },
    {
      "cell_type": "markdown",
      "metadata": {
        "id": "GYf3Ftk3QokW"
      },
      "source": [
        "### Observação:\n",
        "Uma diferença importante entre np.concatenate() e pd.concat() é que em Pandas a concatenação preserva os índices, mesmo que o resultado tenha índices duplicados."
      ]
    },
    {
      "cell_type": "code",
      "metadata": {
        "id": "5xkPD2zaQokW"
      },
      "source": [
        "print(\"Exemplo de concatenação\")\n",
        "x = make_df('AB', [0, 1])\n",
        "y = make_df('AB', [2, 3])\n",
        "y.index = x.index # índices duplicados\n",
        "print(\"\\nValor de X\")\n",
        "print(x); \n",
        "print(\"\\nValor de Y\")\n",
        "print(y)\n",
        "print(\"\\nConcatenação de X e Y\")\n",
        "print(pd.concat([x, y]))"
      ],
      "execution_count": null,
      "outputs": []
    },
    {
      "cell_type": "code",
      "metadata": {
        "id": "FTskjHQQQokW"
      },
      "source": [
        "print(\"\\nConcatenação de X e Y, ignorando o índice\")\n",
        "print(pd.concat([x, y], ignore_index=True))"
      ],
      "execution_count": null,
      "outputs": []
    },
    {
      "cell_type": "markdown",
      "metadata": {
        "id": "v3k6aEeTQokW"
      },
      "source": [
        "### Observação:\n",
        "Chaves MultiIndex - Outra alternativa é o uso da opção 'keys' para especificar um label para a fonte de dados. "
      ]
    },
    {
      "cell_type": "code",
      "metadata": {
        "id": "4euIgyJdQokX"
      },
      "source": [
        "print(\"Concatenação com especificação de labels multiIndex\")\n",
        "print(pd.concat([x, y], keys=['x', 'y']))"
      ],
      "execution_count": null,
      "outputs": []
    },
    {
      "cell_type": "markdown",
      "metadata": {
        "id": "aE4dAErBQokX"
      },
      "source": [
        "### Funcionalidade Concatenação com Join\n",
        "Nos exemplos anteriores concatenamos DataFrames que compartilham os mesmos nomes de colunas. Na prática, porém, dados vêm de diferentes fontes e podem ter diferentes conjuntos de nomes de colunas. O método pd.concat() oferece várias opções para tratar esses casos."
      ]
    },
    {
      "cell_type": "code",
      "metadata": {
        "id": "yDdKO_ewQokX"
      },
      "source": [
        "print(\"DataFrames com nomes de colunas diferentes\")\n",
        "df5 = make_df('ABC', [1, 2])\n",
        "df6 = make_df('BCD', [3, 4])\n",
        "print(\"\\nDataFrame dfe5\")\n",
        "print(df5)\n",
        "print(\"\\nDataFrame dfe6\")\n",
        "print(df6)\n",
        "print(\"\\nDataFrame concatenado de dfe5 e df6\")\n",
        "print(pd.concat([df5, df6]))"
      ],
      "execution_count": null,
      "outputs": []
    },
    {
      "cell_type": "markdown",
      "metadata": {
        "id": "zjwTWKQ1QokX"
      },
      "source": [
        "### Observação:\n",
        "Por default, atribui-se NaN para as entradas para as quais dados não são disponíveis. Para mudar isto, nós podemos especificar uma das várias opções para o parâmetros 'join' e 'join_axes' na função de concatenação.\n",
        "\n",
        "Por default, o 'join' é a união das coluna (join='outer'), mas nós podemos mudar isto para uma interseção de colunas usando join='inner'."
      ]
    },
    {
      "cell_type": "code",
      "metadata": {
        "id": "xbiV4Rr-QokX"
      },
      "source": [
        "print(\"\\nDataFrame concatenado de dfe5 e df6, com interseção de colunas\")\n",
        "print(pd.concat([df5, df6], join='inner'))"
      ],
      "execution_count": null,
      "outputs": []
    },
    {
      "cell_type": "code",
      "metadata": {
        "id": "SH4stri4QokY"
      },
      "source": [
        "print(\"Podemos concatenar 02 dataFrames baseado apenas nos índices de um deles\")\n",
        "res = pd.concat([df5, df6], axis=1)\n",
        "res = res.reindex(df5.index)\n",
        "print(res)\n",
        "\n",
        "                \n",
        "                \n",
        "                "
      ],
      "execution_count": null,
      "outputs": []
    },
    {
      "cell_type": "markdown",
      "metadata": {
        "id": "3KTUGfwyQokY"
      },
      "source": [
        "### Uso do método append(): \n",
        "Outra forma de concatenar DataFrames utilizando um estilo de programa orientada a objetos."
      ]
    },
    {
      "cell_type": "code",
      "metadata": {
        "id": "ar2KqzuuQokY"
      },
      "source": [
        "print(\"Concatenação usando o método append()\")\n",
        "print(\"\\nDataFrame df1\")\n",
        "print(df1)\n",
        "print(\"\\nDataFrame df2\")\n",
        "print(df2)\n",
        "print(\"\\nDataFrame df2 concatenado ao df1\")\n",
        "print(df1.append(df2))"
      ],
      "execution_count": null,
      "outputs": []
    },
    {
      "cell_type": "markdown",
      "metadata": {
        "id": "_Z6cAtffQokY"
      },
      "source": [
        "## Combinando Datasets: Merge e Join\n",
        "\n",
        "Uma característica essencial oferecida pela Pandas é o conjunto de operações de join e merge de alto desempenho e em memória. Se você já trabalhou com bancos de dados, você deve estar familiarizado com esse tipo de interação de dados. A interface principal para isso é a função pd.merge( ), e veremos alguns exemplos de como isso pode funcionar na prática."
      ]
    },
    {
      "cell_type": "markdown",
      "metadata": {
        "id": "8d9t7UstQokY"
      },
      "source": [
        "#### Exemplo com Álgebra Relacional\n",
        "\n",
        "A função pd.merge() implementa um subconjunto de álgebra relaconal, que é um conjunto de regras formais para manipular dados relacionais e forma a fundamentação teórica das operações disponíveis em muitos banco de dados relacionais.\n",
        "\n",
        "A função pd.merge() implementa três tipos de joins: \n",
        "- one-to-one,joins simples com uma das colunas com os mesmos elementos.\n",
        "- many-to-one, quando uma das \"key columns\" de um DataFrame contém entradas duplicadas.\n",
        "- many-to-many, quando colunas de chaves nos dois DataFrames contêm duplicatas chaves de colunas duplicadas."
      ]
    },
    {
      "cell_type": "code",
      "metadata": {
        "id": "fy90EPRPQokZ"
      },
      "source": [
        "# Exemplo de Join one-to-one\n",
        "\n",
        "df1 = pd.DataFrame({'employee': ['Bob', 'Jake', 'Lisa', 'Sue'],\n",
        "'group': ['Accounting', 'Engineering', 'Engineering', 'HR']})\n",
        "df2 = pd.DataFrame({'employee': ['Lisa', 'Bob', 'Jake', 'Sue'],\n",
        "'hire_date': [2004, 2008, 2012, 2014]})\n",
        "print(\"\\nDataFrame df1\")\n",
        "print(df1)\n",
        "print(\"\\nDataFrame df2\")\n",
        "print(df2)"
      ],
      "execution_count": null,
      "outputs": []
    },
    {
      "cell_type": "code",
      "metadata": {
        "id": "Crp0ah_rQokZ"
      },
      "source": [
        "# Exemplo de Join one-to-one\n",
        "# Agrupamento simple\n",
        "df3 = pd.merge(df1, df2)\n",
        "df3"
      ],
      "execution_count": null,
      "outputs": []
    },
    {
      "cell_type": "code",
      "metadata": {
        "id": "PUz0LySrQokZ"
      },
      "source": [
        "# Many-to-one joins\n",
        "df4 = pd.DataFrame({'group': ['Accounting', 'Engineering', 'HR'],\n",
        "'supervisor': ['Carly', 'Guido', 'Steve']})\n",
        "print(\"\\n dateFrame df3\")\n",
        "print(df3)\n",
        "print(\"\\n dateFrame df4\")      \n",
        "print(df4)\n",
        "print(\"\\n dateFrame  df3-df4\")\n",
        "pd.merge(df3, df4)"
      ],
      "execution_count": null,
      "outputs": []
    },
    {
      "cell_type": "code",
      "metadata": {
        "id": "NtQvvoKsQokZ"
      },
      "source": [
        "# Many-to-many joins\n",
        "df5 = pd.DataFrame({'group': ['Accounting', 'Accounting',\n",
        "'Engineering', 'Engineering', 'HR', 'HR'],'skills': ['math', 'spreadsheets', 'coding', 'linux',\n",
        "'spreadsheets', 'organization']})\n",
        "print(\"\\n DataFrame df1\")\n",
        "print(df1)\n",
        "print(\"\\n DataFrame df5\")\n",
        "print(df5)\n",
        "pd.merge(df1, df5)"
      ],
      "execution_count": null,
      "outputs": []
    },
    {
      "cell_type": "markdown",
      "metadata": {
        "id": "tliCrh_TQokZ"
      },
      "source": [
        "### Especificação do Merge usando-se Key\n",
        "\n",
        "Por default, a função pd.merge() associa uma ou mais colunas a partir dos nomes das colunas - conceito de chave (key).\n",
        "\n",
        "Quando não há um casamento adequado entre os nomes das colunas, é possível utilizar uma variedade de opções de parâmetros para resolver este problema.\n",
        "\n",
        "\n",
        "O modo mais simples é especificar explicitamente o nome da coluna chave (key) como palavra-chave (keyword). Porém, esta opção trabalha somente se ambos os DataFrames têm o nome de coluna especificado."
      ]
    },
    {
      "cell_type": "code",
      "metadata": {
        "id": "oVIDGW8WQokZ"
      },
      "source": [
        "# Exemplo de uso de keyword na função pd.merge()\n",
        "print(\"\\n DataFrame df1\")\n",
        "print(df1)\n",
        "print(\"\\n DataFrame df2\")\n",
        "print(df2)\n",
        "pd.merge(df1, df2, on='employee')"
      ],
      "execution_count": null,
      "outputs": []
    },
    {
      "cell_type": "markdown",
      "metadata": {
        "id": "9gUvmstRQoka"
      },
      "source": [
        "Palavras-chaves left_on and right_on keywords:\n",
        "- quando se deseja fazer o merge de DataFrames com nomes de colunas diferente."
      ]
    },
    {
      "cell_type": "code",
      "metadata": {
        "id": "FBmgSV6yQoka"
      },
      "source": [
        "# Exemplo \n",
        "df3 = pd.DataFrame({'name': ['Bob', 'Jake', 'Lisa', 'Sue'],\n",
        "'salary': [70000, 80000, 120000, 90000]})\n",
        "print(df1)\n",
        "print()\n",
        "print(df3)\n",
        "pd.merge(df1, df3, left_on=\"employee\", right_on=\"name\")"
      ],
      "execution_count": null,
      "outputs": []
    },
    {
      "cell_type": "code",
      "metadata": {
        "id": "LD4IIIIvQoka"
      },
      "source": [
        "# Eliminando a coluna redundante\n",
        "\n",
        "pd.merge(df1, df3, left_on=\"employee\", right_on=\"name\").drop('name', axis=1)"
      ],
      "execution_count": null,
      "outputs": []
    },
    {
      "cell_type": "markdown",
      "metadata": {
        "id": "-sGgi0A-Qoka"
      },
      "source": [
        "Palavras-chaves left_index e right_index:\n",
        "-  pode-se utilizar o index como chave para fazer o merge em pd.merge()."
      ]
    },
    {
      "cell_type": "code",
      "metadata": {
        "id": "QIZWkI6NQoka"
      },
      "source": [
        "df1a = df1.set_index('employee')\n",
        "df2a = df2.set_index('employee')\n",
        "print(df1a)\n",
        "print()\n",
        "print(df2a)"
      ],
      "execution_count": null,
      "outputs": []
    },
    {
      "cell_type": "code",
      "metadata": {
        "id": "_Jd-ygGRQoka"
      },
      "source": [
        "pd.merge(df1a, df2a, left_index=True, right_index=True)"
      ],
      "execution_count": null,
      "outputs": []
    },
    {
      "cell_type": "code",
      "metadata": {
        "id": "COVU7MAjQoka"
      },
      "source": [
        "#O método join() é equilavente ao merge(),\n",
        "# mas no estilo orientado a objetos\n",
        "\n",
        "df1a.join(df2a)"
      ],
      "execution_count": null,
      "outputs": []
    },
    {
      "cell_type": "markdown",
      "metadata": {
        "id": "0q7396JsQokb"
      },
      "source": [
        "#### Exemplos\n",
        "- O que ocorre quando um item aparece numa coluna mas não em outra?\n"
      ]
    },
    {
      "cell_type": "code",
      "metadata": {
        "id": "NkzCGWeBQokb"
      },
      "source": [
        "# Exemplo\n",
        "\n",
        "df6 = pd.DataFrame({'name': ['Peter', 'Paul', 'Mary'],\n",
        "'food': ['fish', 'beans', 'bread']},\n",
        "columns=['name', 'food'])\n",
        "df7 = pd.DataFrame({'name': ['Mary', 'Joseph'],\n",
        "'drink': ['wine', 'beer']},\n",
        "columns=['name', 'drink'])\n",
        "print(df6)\n",
        "print()\n",
        "print(df7)\n",
        "print()\n",
        "pd.merge(df6, df7)"
      ],
      "execution_count": null,
      "outputs": []
    },
    {
      "cell_type": "code",
      "metadata": {
        "id": "x123qz8SQokb"
      },
      "source": [
        "# Default - interseção\n",
        "pd.merge(df6, df7, how='inner')"
      ],
      "execution_count": null,
      "outputs": []
    },
    {
      "cell_type": "code",
      "metadata": {
        "id": "e38Y9CqeQokb"
      },
      "source": [
        "# Uso da união\n",
        "\n",
        "pd.merge(df6, df7, how='outer')"
      ],
      "execution_count": null,
      "outputs": []
    },
    {
      "cell_type": "code",
      "metadata": {
        "id": "f8Ey75GGQokb"
      },
      "source": [
        "# Associação pela coluna da esquerda\n",
        "pd.merge(df6, df7, how='left')"
      ],
      "execution_count": null,
      "outputs": []
    },
    {
      "cell_type": "code",
      "metadata": {
        "id": "EsVhMS2GqcXn"
      },
      "source": [
        "# Associação pela coluna da direita\n",
        "pd.merge(df6, df7, how='right')"
      ],
      "execution_count": null,
      "outputs": []
    },
    {
      "cell_type": "code",
      "metadata": {
        "id": "rhVFmt-5Qokc"
      },
      "source": [
        "# Exemplo de uso de sufixos\n",
        "# formato padrão\n",
        "\n",
        "df8 = pd.DataFrame({'name': ['Bob', 'Jake', 'Lisa', 'Sue'],\n",
        "'rank': [1, 2, 3, 4]})\n",
        "df9 = pd.DataFrame({'name': ['Bob', 'Jake', 'Lisa', 'Sue'],\n",
        "'rank': [3, 1, 4, 2]})\n",
        "print(df8)\n",
        "print()\n",
        "print(df9)\n",
        "print()\n",
        "pd.merge(df8, df9, on=\"name\")"
      ],
      "execution_count": null,
      "outputs": []
    },
    {
      "cell_type": "code",
      "metadata": {
        "id": "UBfspoa_Qokc"
      },
      "source": [
        "# Exemplo de uso de sufixos\n",
        "# Especificando os sufixos\n",
        "\n",
        "pd.merge(df8, df9, on=\"name\", suffixes=[\"_L\", \"_R\"])"
      ],
      "execution_count": null,
      "outputs": []
    },
    {
      "cell_type": "markdown",
      "metadata": {
        "id": "rmhLe70RQokc"
      },
      "source": [
        "# Exercício de Aplicação: para fixação dos conteúdos apresentados\n",
        "\n",
        "Carregue os arquivos no seguinte github: dados do EU.\n",
        "\n",
        "https://github.com/jakevdp/data-USstates/\n"
      ]
    },
    {
      "cell_type": "code",
      "metadata": {
        "id": "F3sdBi09Qokc"
      },
      "source": [
        "# Carregando os arquivos csv\n",
        "#Código \n",
        "pop = pd.read_csv('https://raw.githubusercontent.com/jakevdp/data-USstates/master/state-population.csv')\n",
        "areas = pd.read_csv('https://raw.githubusercontent.com/jakevdp/data-USstates/master/state-areas.csv')\n",
        "abbrevs = pd.read_csv('https://raw.githubusercontent.com/jakevdp/data-USstates/master/state-abbrevs.csv')"
      ],
      "execution_count": null,
      "outputs": []
    },
    {
      "cell_type": "code",
      "metadata": {
        "id": "0jB1rMySQokc"
      },
      "source": [
        "# Verificando os conteúdos dos arquivos\n",
        "\n",
        "print(pop.head())\n",
        "print()\n",
        "print(areas.head())\n",
        "print()\n",
        "print(abbrevs.head())"
      ],
      "execution_count": null,
      "outputs": []
    },
    {
      "cell_type": "markdown",
      "metadata": {
        "id": "-acMbFQ3Qokc"
      },
      "source": [
        "#### Passo 1. Gere um DataFrame (dfMerged), com as seguintes colunas:\n",
        "    \n",
        "state/region, ages, year, population, state"
      ]
    },
    {
      "cell_type": "code",
      "metadata": {
        "id": "IiaOfK_vQokd"
      },
      "source": [
        "# Código do programa de merge dos 03 arquivos\n",
        "dfMerged = pd.merge(pop, abbrevs, how='outer',left_on='state/region', right_on='abbreviation')\n",
        "dfMerged = dfMerged.drop('abbreviation', axis= 1)"
      ],
      "execution_count": null,
      "outputs": []
    },
    {
      "cell_type": "code",
      "metadata": {
        "id": "BhnZMmMxQokd"
      },
      "source": [
        "# Verificação do DataFrame gerado\n",
        "dfMerged.head()"
      ],
      "execution_count": null,
      "outputs": []
    },
    {
      "cell_type": "code",
      "metadata": {
        "id": "UJFLH6r2Qokd"
      },
      "source": [
        "# Verificação se há algum dado faltando\n",
        "dfMerged.isnull().any()"
      ],
      "execution_count": null,
      "outputs": []
    },
    {
      "cell_type": "code",
      "metadata": {
        "id": "MiX0ix2iQokd"
      },
      "source": [
        "# Verificação de quais itens de \"population\" estão faltando\n",
        "\n",
        "dfMerged[dfMerged['population'].isnull()].head()"
      ],
      "execution_count": null,
      "outputs": []
    },
    {
      "cell_type": "code",
      "metadata": {
        "id": "kLHTXvj2Qokd"
      },
      "source": [
        "# Verificação de quais state/region têm elementos na coluna \"state\" com data missing\n",
        "dfMerged.loc[dfMerged['state'].isnull(), 'state/region'].unique()"
      ],
      "execution_count": null,
      "outputs": []
    },
    {
      "cell_type": "code",
      "metadata": {
        "collapsed": true,
        "id": "OQKcPhwYQokd"
      },
      "source": [
        "# Para resolver o problema de associar Porto Rico com um estado dos EU.\n",
        "# Só fica faltando resolver a população de Porto Rico (data missing)\n",
        "\n",
        "dfMerged.loc[dfMerged['state/region'] == 'PR', 'state'] = 'Puerto Rico'\n",
        "dfMerged.loc[dfMerged['state/region'] == 'USA', 'state'] = 'United States'\n",
        "dfMerged.isnull().any()"
      ],
      "execution_count": null,
      "outputs": []
    },
    {
      "cell_type": "markdown",
      "metadata": {
        "id": "9kQHWSmZQokd"
      },
      "source": [
        "### Passo 2. Gere um DataFrame (dfFinal), com as seguintes colunas:\n",
        "\n",
        "state/region, ages, year, population, state, area (sq. mi)\n"
      ]
    },
    {
      "cell_type": "code",
      "metadata": {
        "id": "j5uO1pO4Qoke"
      },
      "source": [
        "# Código de merge para gerar o DataFrame dfFinal\n",
        "dfFinal = pd.merge(dfMerged, areas, on='state', how='left')"
      ],
      "execution_count": null,
      "outputs": []
    },
    {
      "cell_type": "code",
      "metadata": {
        "id": "8cOSMxLFQoke"
      },
      "source": [
        "# Verificação do resultado\n",
        "\n",
        "dfFinal.head()"
      ],
      "execution_count": null,
      "outputs": []
    },
    {
      "cell_type": "code",
      "metadata": {
        "id": "kOn50l5yQoke"
      },
      "source": [
        "# Verificação se há data missing\n",
        "\n",
        "dfFinal.isnull().any()\n"
      ],
      "execution_count": null,
      "outputs": []
    },
    {
      "cell_type": "markdown",
      "metadata": {
        "id": "j_wVHJR7Qoke"
      },
      "source": [
        "### Passo 3. Deve haver nulos na coluna da área.\n",
        "Verifique quais regiões foram ignoradas."
      ]
    },
    {
      "cell_type": "code",
      "metadata": {
        "id": "Pn-AStP6Qoke"
      },
      "source": [
        "# Código de verificação de quais estados têm data missing nos campos de área\n",
        "dfFinal['state'][dfFinal['area (sq. mi)'].isnull()].unique()"
      ],
      "execution_count": null,
      "outputs": []
    },
    {
      "cell_type": "markdown",
      "metadata": {
        "id": "rHyr1HyQQoke"
      },
      "source": [
        "### Passo 4. Há campos na coluna de área no DataFrame com data missing. \n",
        "Para resolver esse tipo de problema, podemos inserir o valor apropriado (usando a soma de todas as áreas de estado, por exemplo), mas neste caso, simplesmente elimite os campos com valores nulos."
      ]
    },
    {
      "cell_type": "code",
      "metadata": {
        "id": "zjLcVCDSQoke"
      },
      "source": [
        "# código de eliminação de campos com data missing\n",
        "dfFinal.dropna(inplace=True)\n",
        "dfFinal.head()\n"
      ],
      "execution_count": null,
      "outputs": []
    },
    {
      "cell_type": "markdown",
      "metadata": {
        "id": "Hqxg9n_DQokf"
      },
      "source": [
        "### Passo 5. Obtenha um DataFrame (data2010) da população dos EU em 2010 (apenas o total por estados).\n",
        "- data2010(state/region, ages, year, population, state,area (sq. mi))\n"
      ]
    },
    {
      "cell_type": "code",
      "metadata": {
        "id": "mpoFbQG2Qokf"
      },
      "source": [
        "# Código\n",
        "\n",
        "data2010 = dfFinal.query(\"year == 2010 & ages == 'total'\")\n",
        "data2010.head()"
      ],
      "execution_count": null,
      "outputs": []
    },
    {
      "cell_type": "markdown",
      "metadata": {
        "id": "SyzA0xiIQokf"
      },
      "source": [
        "### Passo 6. Obtenha os 5 estados com maiores densidades populacionais em 2010 (em order decrescente)"
      ]
    },
    {
      "cell_type": "code",
      "metadata": {
        "collapsed": true,
        "id": "r5ytKuEHQokf"
      },
      "source": [
        "# Código"
      ],
      "execution_count": null,
      "outputs": []
    },
    {
      "cell_type": "markdown",
      "metadata": {
        "id": "pZZaKiInQokf"
      },
      "source": [
        "### Passo 7. Obtenha os 5 estados com menores densidades populacionais em 2010 (em order decrescente)"
      ]
    },
    {
      "cell_type": "code",
      "metadata": {
        "collapsed": true,
        "id": "iZS89FfWQokf"
      },
      "source": [
        "# Código\n"
      ],
      "execution_count": null,
      "outputs": []
    },
    {
      "cell_type": "markdown",
      "metadata": {
        "id": "bzJ5NaueQokf"
      },
      "source": [
        "### Passo 8. Obtenha os 05 estados com maiores proporções de jovens (under 18) em 2010 (apresente o resultado em ordem decrescente)\n",
        "                            "
      ]
    },
    {
      "cell_type": "code",
      "metadata": {
        "collapsed": true,
        "id": "zjJ-QqurQokg"
      },
      "source": [
        "# Código"
      ],
      "execution_count": null,
      "outputs": []
    },
    {
      "cell_type": "markdown",
      "metadata": {
        "id": "rfIXUuPVQokg"
      },
      "source": [
        "### Passo 9. Obtenha a média das populações (total e under18) por estado.\n",
        "- Sugestão: Utilizar groupBy."
      ]
    },
    {
      "cell_type": "code",
      "metadata": {
        "collapsed": true,
        "id": "qDiARv4IQokg"
      },
      "source": [
        "# Código\n"
      ],
      "execution_count": null,
      "outputs": []
    },
    {
      "cell_type": "markdown",
      "metadata": {
        "id": "5_AP4JVDQokg"
      },
      "source": [
        "### Passo 10. Trace um gráfico em relação ao ano (year) do crescimento da população total e de jovens (under18) dos 05 estados mais populosos em 2010. "
      ]
    },
    {
      "cell_type": "code",
      "metadata": {
        "collapsed": true,
        "id": "ruuIcIPPQokg"
      },
      "source": [
        "# Código\n"
      ],
      "execution_count": null,
      "outputs": []
    }
  ]
}